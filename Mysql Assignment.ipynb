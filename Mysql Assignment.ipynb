{
 "cells": [
  {
   "cell_type": "markdown",
   "id": "df1d475e-5759-42bb-a093-c5f3fbc80f89",
   "metadata": {},
   "source": [
    "# Q1. What is a database? Differentiate between SQL and NoSQL databases."
   ]
  },
  {
   "cell_type": "markdown",
   "id": "e53677fa-2200-46f8-978d-8e84e8415e23",
   "metadata": {},
   "source": [
    "__Ans. :__<br>\n",
    "\n",
    "A database is a systematic collection of data. They support electronic storage and manipulation of data.<br>\n",
    "\n",
    "SQL vs NoSQL :<br>\n",
    "\n",
    "1. SQL is a RELATIONAL DATABASE MANAGEMENT SYSTEM (RDBMS), NoSQL is a Non-relational or distributed database system.\n",
    "2. SQL databases have fixed or static or predefined schema, NoSQL have dynamic schema.\n",
    "3. SQL databases are not suited for hierarchical data storage, NoSQL databases are best suited for hierarchical data storage.\n",
    "4. SQL is a Vertically Scalable, NoSQL is a Horizontally scalable.\n",
    "5. SQL Examples: MySQL, PostgreSQL, Oracle, MS-SQL Server, etc.\n",
    "   NoSQL Examples: MongoDB, GraphQL, HBase, Neo4j, Cassandra, etc."
   ]
  },
  {
   "cell_type": "markdown",
   "id": "61fe0a1a-91e5-41b0-a63d-be34110afbe2",
   "metadata": {},
   "source": [
    "# Q2. What is DDL? Explain why CREATE, DROP, ALTER, and TRUNCATE are used with an example."
   ]
  },
  {
   "cell_type": "markdown",
   "id": "ad74ce0c-3f68-45f8-b5d3-1a28941c3962",
   "metadata": {},
   "source": [
    "__Ans. :__<br>\n",
    "\n",
    "Data definition language (DDL) describes the portion of SQL that creates, alters, and deletes database objects. These database objects include schemas, tables, views, sequences, catalogs, indexes, variables, masks, permissions, and aliases. Creating a schema.\n",
    "\n",
    "__CREATE, DROP, ALTER,__ and __TRUNCATE__ are all SQL (Structured Query Language) commands used to manage databases and tables.\n",
    "\n",
    "__CREATE__ is used to create a new database or a new table within an existing database. For example, the following SQL command creates a new table called \"customers\" with four columns:\n",
    "\n"
   ]
  },
  {
   "cell_type": "markdown",
   "id": "3bdda88c-b513-44e2-ac87-2ae23d1cda86",
   "metadata": {},
   "source": [
    "CREATE TABLE customers (\n",
    "<br>   id INT PRIMARY KEY,\n",
    "<br>   name VARCHAR(50),\n",
    "<br>   email VARCHAR(50),\n",
    "<br>   address VARCHAR(100)<br>\n",
    ");"
   ]
  },
  {
   "cell_type": "markdown",
   "id": "7e8c06b5-7d47-4fb2-8b99-6967d0609b93",
   "metadata": {},
   "source": [
    "__DROP__ is used to delete a database or a table from a database. For example, the following SQL command drops the table \"customers\":\n",
    "\n",
    "DROP TABLE customers;"
   ]
  },
  {
   "cell_type": "markdown",
   "id": "27d9e6fc-19b0-4f04-8d62-97c5e52043d9",
   "metadata": {},
   "source": [
    "__ALTER__ is used to modify the structure of an existing table, such as adding or removing columns or changing data types. For example, the following SQL command adds a new column called \"phone\" to the \"customers\" table:\n",
    "\n",
    "ALTER TABLE customers ADD phone VARCHAR(20);\n"
   ]
  },
  {
   "cell_type": "markdown",
   "id": "22722a26-990c-4518-9e33-72cb53add3fc",
   "metadata": {},
   "source": [
    "__TRUNCATE__ is used to delete all data from a table, but keep the table structure intact. For example, the following SQL command deletes all data from the \"customers\" table:\n",
    "\n",
    "TRUNCATE TABLE customers;"
   ]
  },
  {
   "cell_type": "markdown",
   "id": "a185b7cd-e149-4b6a-afac-e09134c8e82c",
   "metadata": {},
   "source": [
    "# Q3. What is DML? Explain INSERT, UPDATE, and DELETE with an example."
   ]
  },
  {
   "cell_type": "markdown",
   "id": "4ea190c9-9202-4aae-bf8b-101c99000b15",
   "metadata": {},
   "source": [
    "__Ans. :__ <br>\n",
    "\n",
    "A __DML__ (data manipulation language) refers to a __computer programming language that allows you to add (insert), delete (delete), and alter (update) data in a database.__\n",
    "\n",
    "The three main DML statements are __INSERT, UPDATE, and DELETE.__\n",
    "\n",
    "1. __INSERT__: The __INSERT__ statement is used to add new rows of data into a table. The syntax for the INSERT statement is as follows:"
   ]
  },
  {
   "cell_type": "markdown",
   "id": "4cbb0634-bc85-417f-8255-1f7fe75c64fc",
   "metadata": {},
   "source": [
    "INSERT INTO table_name (column1, column2, column3, ...)\n",
    "<br>VALUES (value1, value2, value3, ...);"
   ]
  },
  {
   "cell_type": "markdown",
   "id": "86df27d0-cb6a-4fbf-99c9-23c403fb8187",
   "metadata": {},
   "source": [
    "For example, to add a new customer record to the \"customers\" table, we could use the following INSERT statement:"
   ]
  },
  {
   "cell_type": "markdown",
   "id": "c133723c-49ec-41e5-b928-eb47bb18e711",
   "metadata": {},
   "source": [
    "INSERT INTO customers (id, name, email, address)\n",
    "<br>VALUES (1, 'John Smith', 'john.smith@example.com', '123 Main Street');"
   ]
  },
  {
   "cell_type": "markdown",
   "id": "1e11be21-b829-41c3-a86e-3c806a4eb860",
   "metadata": {},
   "source": [
    "2. __UPDATE__: The __UPDATE__ statement is used to modify existing data in a table. The syntax for the UPDATE statement is as follows:"
   ]
  },
  {
   "cell_type": "markdown",
   "id": "5f258a91-576c-4c8f-aa87-38b330298112",
   "metadata": {},
   "source": [
    "UPDATE table_name\n",
    "<br>SET column1 = value1, column2 = value2, ...\n",
    "<br>WHERE condition;"
   ]
  },
  {
   "cell_type": "markdown",
   "id": "93f014dd-68c0-46f4-8067-ce173b9c2d51",
   "metadata": {},
   "source": [
    "For example, to update the email address for a specific customer record in the \"customers\" table, we could use the following UPDATE statement:"
   ]
  },
  {
   "cell_type": "markdown",
   "id": "71231303-df7a-4a04-bed1-9eb0d5733598",
   "metadata": {},
   "source": [
    "UPDATE customers\n",
    "<br>SET email = 'john.smith.new@example.com'\n",
    "<br>WHERE id = 1;"
   ]
  },
  {
   "cell_type": "markdown",
   "id": "fff50479-56f4-4d01-90b2-ee8084bc1aaf",
   "metadata": {},
   "source": [
    "3. __DELETE__: The DELETE statement is used to delete rows of data from a table. The syntax for the DELETE statement is as follows:"
   ]
  },
  {
   "cell_type": "markdown",
   "id": "d10ffffe-9152-40b6-a1a1-de9a34d1df2e",
   "metadata": {},
   "source": [
    "DELETE FROM table_name\n",
    "<br>WHERE condition;"
   ]
  },
  {
   "cell_type": "markdown",
   "id": "45b22124-9e25-49d8-b4ba-c56d07645adf",
   "metadata": {},
   "source": [
    "For example, to delete a specific customer record from the \"customers\" table, we could use the following DELETE statement:"
   ]
  },
  {
   "cell_type": "markdown",
   "id": "dd7f40c1-a6af-45fb-b77c-46520967aeed",
   "metadata": {},
   "source": [
    "DELETE FROM customers\n",
    "<br>WHERE id = 1;"
   ]
  },
  {
   "cell_type": "markdown",
   "id": "316818db-fdff-4d64-97db-95fe2c95f359",
   "metadata": {},
   "source": [
    "# Q4. What is DQL? Explain SELECT with an example."
   ]
  },
  {
   "cell_type": "markdown",
   "id": "e9f76913-4e72-4041-a577-9352591d1881",
   "metadata": {},
   "source": [
    "__Ans. :__<br>\n",
    "\n",
    "__DQL__ stands for Data Query Language, and it is a subset of __SQL__ (Structured Query Language) used to query or retrieve data from a database. The primary __DQL__ statement is the __SELECT__ statement.\n",
    "\n",
    "__SELECT__ is used to retrieve data from one or more tables and can be customized to return specific columns, filter results based on criteria, and even perform calculations on the data. The basic syntax for the SELECT statement is as follows:"
   ]
  },
  {
   "cell_type": "markdown",
   "id": "77e4f5ef-782a-45f3-b6f6-ca1db39b1577",
   "metadata": {},
   "source": [
    "SELECT column1, column2, ...\n",
    "<br>FROM table_name\n",
    "<br>WHERE condition;"
   ]
  },
  {
   "cell_type": "markdown",
   "id": "4fef31ee-e5ac-4313-9f86-1e18d864c6c5",
   "metadata": {},
   "source": [
    "Here's an example of how to use the SELECT statement to retrieve data from a table named \"employees\":"
   ]
  },
  {
   "cell_type": "markdown",
   "id": "0b76ecb0-6f75-444a-9b07-a31505580838",
   "metadata": {},
   "source": [
    "SELECT * FROM employees"
   ]
  },
  {
   "cell_type": "markdown",
   "id": "871f6881-0292-4c95-9679-16a50069af7f",
   "metadata": {},
   "source": [
    "# Q5. Explain Primary Key and Foreign Key."
   ]
  },
  {
   "cell_type": "markdown",
   "id": "5354e751-bc78-4c5f-9a64-4a6883a5caad",
   "metadata": {},
   "source": [
    "__Ans. :__<br>\n",
    "\n",
    "a __primary key__ is a column or group of columns in a table that uniquely identifies each row in that table, while a __foreign key__ is a column or group of columns in one table that refers to the __primary key__ in another table to establish a relationship between the two tables. __Primary__ and __foreign keys__ are important for maintaining the integrity of the data and for establishing relationships between tables in a database."
   ]
  },
  {
   "cell_type": "markdown",
   "id": "55b82ea5-d8b9-4834-8434-1db92f97b966",
   "metadata": {},
   "source": [
    "# Q6. Write a python code to connect MySQL to python. Explain the cursor() and execute() method."
   ]
  },
  {
   "cell_type": "markdown",
   "id": "4752c2d8-c00b-4973-b5f5-8676ccadb772",
   "metadata": {},
   "source": [
    "__Ans. :__<br>\n",
    "\n",
    "To connect to __MySQL__ from Python, we can use the __mysql-connector-python__ module, which provides a Python interface to __MySQL__. Here is an example code to connect to __MySQL__ from Python:"
   ]
  },
  {
   "cell_type": "markdown",
   "id": "755a6d32-3986-4866-af13-de3ef8091efb",
   "metadata": {},
   "source": [
    "import mysql.connector\n",
    "\n",
    "<br># Establish a connection to the database\n",
    "<br>mydb = mysql.connector.connect(\n",
    "<br>  host=\"localhost\",\n",
    "<br>  user=\"username\",\n",
    "<br>  password=\"password\",\n",
    "<br>  database=\"database_name\"\n",
    "<br>)"
   ]
  },
  {
   "cell_type": "markdown",
   "id": "7c8e7eeb-7625-42d9-9818-6933fca05668",
   "metadata": {},
   "source": [
    "the __cursor()__ method is used to create a cursor object that interacts with the database, and the __execute()__ method is used to execute SQL queries on the database through the cursor object."
   ]
  },
  {
   "cell_type": "markdown",
   "id": "783f4885-bc8e-41b9-bb71-80e8e6dbccda",
   "metadata": {},
   "source": [
    "Create a cursor object to interact with the database\n",
    "<br>mycursor = mydb.cursor()\n",
    "\n",
    "Execute a query\n",
    "<br>mycursor.execute(\"SELECT * FROM customers\")"
   ]
  },
  {
   "cell_type": "markdown",
   "id": "b57f090a-b689-465c-8eaf-ab9be1bfdd42",
   "metadata": {},
   "source": [
    "# Q7. Give the order of execution of SQL clauses in an SQL query."
   ]
  },
  {
   "cell_type": "markdown",
   "id": "f38b24d4-08cc-451b-a142-0f0bb46da539",
   "metadata": {},
   "source": [
    "__Ans. :__<br>\n",
    "\n",
    "The order of execution of SQL clauses in an SQL query is as follows:\n",
    "\n",
    "1. __FROM__ - specifies the tables that the query will retrieve data from\n",
    "2. __JOIN__ - if there are any joins, they are performed next to combine data from multiple tables\n",
    "3. __WHERE__ - filters the data based on the conditions specified in the WHERE clause\n",
    "4. __GROUP BY__ - groups the data based on the columns specified in the GROUP BY clause\n",
    "5. __HAVING__ - filters the grouped data based on the conditions specified in the HAVING clause\n",
    "6. __SELECT__ - specifies the columns to retrieve from the data set\n",
    "7. __DISTINCT__ - filters out duplicate rows from the result set\n",
    "8. __ORDER BY__ - sorts the result set based on the columns specified in the ORDER BY clause\n",
    "9. __LIMIT__ - limits the number of rows in the result set to a specified number"
   ]
  },
  {
   "cell_type": "code",
   "execution_count": null,
   "id": "22454b23-37a1-4902-a786-fc51fde7c276",
   "metadata": {},
   "outputs": [],
   "source": []
  }
 ],
 "metadata": {
  "kernelspec": {
   "display_name": "Python 3 (ipykernel)",
   "language": "python",
   "name": "python3"
  },
  "language_info": {
   "codemirror_mode": {
    "name": "ipython",
    "version": 3
   },
   "file_extension": ".py",
   "mimetype": "text/x-python",
   "name": "python",
   "nbconvert_exporter": "python",
   "pygments_lexer": "ipython3",
   "version": "3.10.8"
  }
 },
 "nbformat": 4,
 "nbformat_minor": 5
}
